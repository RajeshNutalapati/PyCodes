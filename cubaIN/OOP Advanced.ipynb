{
 "cells": [
  {
   "cell_type": "code",
   "execution_count": 2,
   "metadata": {},
   "outputs": [
    {
     "name": "stdout",
     "output_type": "stream",
     "text": [
      "my decorator\n",
      "None\n"
     ]
    }
   ],
   "source": [
    "#Simple decorators\n",
    "def my_Decorator():\n",
    "    print(\"my decorator\")\n",
    "    def wrapper():\n",
    "        print (\"wrapper\")\n",
    "        return wrapper\n",
    "    def test():\n",
    "        print(\"test and rest\")\n",
    "        \n",
    "        \n",
    "outside = my_Decorator()\n",
    "print(outside)\n"
   ]
  },
  {
   "cell_type": "code",
   "execution_count": 5,
   "metadata": {},
   "outputs": [
    {
     "name": "stdout",
     "output_type": "stream",
     "text": [
      "hi\n",
      "Whee!\n"
     ]
    }
   ],
   "source": [
    "def my_decorator(func):\n",
    "    print(\"hi\")\n",
    "    def wrapper():\n",
    "        print(\"warrpper\")\n",
    "        \n",
    "    func()\n",
    "    \n",
    "    return wrapper\n",
    "    \n",
    "def say_whee():\n",
    "    print(\"Whee!\")\n",
    "\n",
    "say_whee = my_decorator(say_whee)"
   ]
  },
  {
   "cell_type": "code",
   "execution_count": 8,
   "metadata": {},
   "outputs": [
    {
     "name": "stdout",
     "output_type": "stream",
     "text": [
      "<class 'set'>\n",
      "<class 'set_iterator'>\n"
     ]
    }
   ],
   "source": [
    "a_set = {1, 2, 3}\n",
    "b_iterator = iter(a_set)\n",
    "next(b_iterator)\n",
    "\n",
    "print(type(a_set))\n",
    "\n",
    "print(type(b_iterator))\n"
   ]
  }
 ],
 "metadata": {
  "kernelspec": {
   "display_name": "Python 3",
   "language": "python",
   "name": "python3"
  },
  "language_info": {
   "codemirror_mode": {
    "name": "ipython",
    "version": 3
   },
   "file_extension": ".py",
   "mimetype": "text/x-python",
   "name": "python",
   "nbconvert_exporter": "python",
   "pygments_lexer": "ipython3",
   "version": "3.7.3"
  }
 },
 "nbformat": 4,
 "nbformat_minor": 2
}
