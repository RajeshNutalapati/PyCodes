{
 "cells": [
  {
   "cell_type": "code",
   "execution_count": 21,
   "metadata": {},
   "outputs": [
    {
     "name": "stdout",
     "output_type": "stream",
     "text": [
      "<class 'generator'>\n",
      "<generator object gener_function at 0x0000022C6AAF42A0>\n",
      "0\n",
      "1\n",
      "0\n",
      "0\n",
      "1\n",
      "1\n",
      "0\n",
      "1\n",
      "2\n",
      "0\n",
      "1\n",
      "3\n",
      "0\n",
      "1\n",
      "4\n",
      "0\n",
      "1\n",
      "5\n",
      "0\n",
      "1\n",
      "6\n"
     ]
    }
   ],
   "source": [
    "# 1. Create a generator with nested loop (two for loops).\n",
    "#https://www.programiz.com/python-programming/generator\n",
    "array= [1,2,3,4,5,6,7]\n",
    "def gener_function(array):\n",
    "    for i in range(len(array)):\n",
    "        for j in range(2):\n",
    "            yield j\n",
    "        yield i\n",
    "        \n",
    "x = gener_function(array)\n",
    "print(type(x))\n",
    "print(x)\n",
    "for item in x:\n",
    "    print (item)"
   ]
  },
  {
   "cell_type": "code",
   "execution_count": 20,
   "metadata": {},
   "outputs": [
    {
     "name": "stdout",
     "output_type": "stream",
     "text": [
      "0\n"
     ]
    }
   ],
   "source": [
    "array= [1,2,3,4,5,6,7]\n",
    "def gener_function(array):\n",
    "    for i in range(len(array)):\n",
    "        for j in range(10):\n",
    "            return j\n",
    "        return i\n",
    "        \n",
    "print(gener_function(array))"
   ]
  },
  {
   "cell_type": "code",
   "execution_count": null,
   "metadata": {},
   "outputs": [],
   "source": [
    "#2. Create a fibonacci generator and stop it after 10 calls in two ways: with passing stop parameter and without passing it."
   ]
  },
  {
   "cell_type": "code",
   "execution_count": null,
   "metadata": {},
   "outputs": [],
   "source": []
  },
  {
   "cell_type": "code",
   "execution_count": null,
   "metadata": {},
   "outputs": [],
   "source": []
  }
 ],
 "metadata": {
  "kernelspec": {
   "display_name": "Python 3",
   "language": "python",
   "name": "python3"
  },
  "language_info": {
   "codemirror_mode": {
    "name": "ipython",
    "version": 3
   },
   "file_extension": ".py",
   "mimetype": "text/x-python",
   "name": "python",
   "nbconvert_exporter": "python",
   "pygments_lexer": "ipython3",
   "version": "3.7.3"
  }
 },
 "nbformat": 4,
 "nbformat_minor": 2
}
